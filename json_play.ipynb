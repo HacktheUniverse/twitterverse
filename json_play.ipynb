{
 "metadata": {
  "name": "",
  "signature": "sha256:3ce8b1b82121dfd94920ff37dbac3f6c98d46323d2f51abcaef2297fd9f310f6"
 },
 "nbformat": 3,
 "nbformat_minor": 0,
 "worksheets": [
  {
   "cells": [
    {
     "cell_type": "code",
     "collapsed": false,
     "input": [
      "import json"
     ],
     "language": "python",
     "metadata": {},
     "outputs": [],
     "prompt_number": 1
    },
    {
     "cell_type": "code",
     "collapsed": false,
     "input": [
      "cd twitterverse"
     ],
     "language": "python",
     "metadata": {},
     "outputs": [
      {
       "output_type": "stream",
       "stream": "stdout",
       "text": [
        "/Users/lia/HackTheUniverse/twitterverse\n"
       ]
      }
     ],
     "prompt_number": 2
    },
    {
     "cell_type": "code",
     "collapsed": false,
     "input": [
      "jfile = open('json_1.txt')\n",
      "jdata = jfile.read()\n",
      "jfile.close()"
     ],
     "language": "python",
     "metadata": {},
     "outputs": [],
     "prompt_number": 3
    },
    {
     "cell_type": "code",
     "collapsed": false,
     "input": [
      "test = json.JSONDecoder()\n",
      "obj = test.decode(jdata)\n",
      "obj.keys()"
     ],
     "language": "python",
     "metadata": {},
     "outputs": [
      {
       "metadata": {},
       "output_type": "pyout",
       "prompt_number": 4,
       "text": [
        "[u'search_metadata', u'statuses']"
       ]
      }
     ],
     "prompt_number": 4
    },
    {
     "cell_type": "code",
     "collapsed": false,
     "input": [
      "all_tweets = \"\"\n",
      "\n",
      "for tweet in obj['statuses']:\n",
      "    print tweet['text']\n",
      "    print tweet['favorite_count']\n",
      "    print tweet['retweet_count']\n",
      "    print tweet['user']['followers_count']\n",
      "    \n",
      "    all_tweets += tweet['text'] + \" \""
     ],
     "language": "python",
     "metadata": {},
     "outputs": [
      {
       "output_type": "stream",
       "stream": "stdout",
       "text": [
        "RT @nicholalexander: amazing watching the apps roll into the repo -https://t.co/oea693GBqN - amazing talent here. #hacktheuniverse\n",
        "0\n",
        "4\n",
        "1982\n",
        "On my way back to #hacktheuniverse at @AMNH! Excited to see what's been going on\n",
        "0\n",
        "0\n",
        "158\n",
        "Great to see all the #hacktheuniverse @AMNH guys bright and early this morning. So much fun and the music was great http://t.co/HclPp4L1zU\n",
        "0\n",
        "0\n",
        "146\n",
        "RT @kosamari: You wake up to this view :) Inside of the American Museum of Natural History #hacktheuniverse http://t.co/TCSiytvg5m\n",
        "0\n",
        "3\n",
        "146\n",
        "@shubhabala are you at #hacktheuniverse today? We're trying to come by later!\n",
        "0\n",
        "0\n",
        "1434\n",
        "@MacDiva So sad to miss this weekend, please share the results! Would love it if anyone wanted to come present on #HackTheUniverse @ITP_NYU\n",
        "0\n",
        "0\n",
        "9022\n",
        "LOOK I MADE A PLAYLIST PLEASE USE THIS http://t.co/KueNrl81Vd #hacktheuniverse #nomorearenarockplz\n",
        "0\n",
        "0\n",
        "115\n",
        "It's @Nrefzen!! \u201cAMNH #HacktheUniverse participants working through the night to build apps using Digital Universe http://t.co/Vhlsb39gOP\u201d\n",
        "0\n",
        "0\n",
        "2484\n",
        "RT @kosamari: You wake up to this view :) Inside of the American Museum of Natural History #hacktheuniverse http://t.co/TCSiytvg5m\n",
        "0\n",
        "3\n",
        "867\n",
        "22 projects created in 24 hours at #HackTheUniverse! INTERGALACTIC!!! @amnh\n",
        "2\n",
        "0\n",
        "2484\n",
        "#hacktheuniverse has become a HELLVERSE w this awful music. Who's down to make an intergalactic alliance for silence?!\n",
        "0\n",
        "0\n",
        "115\n",
        "Good morning, Hayden Planetarium \ud83c\udf1e\ud83c\udf1e #hacktheuniverse #amnh @ Hayden Planetarium @ The American\u2026 http://t.co/JpgRsSaF6R\n",
        "0\n",
        "0\n",
        "206\n",
        "#hacktheuniverse any front end / design folks want to help translate some wireframes into a prettier / interactive UI for Partiview?\n",
        "1\n",
        "0\n",
        "1386\n",
        "Breakfast while we hack away in the #amnh #hacktheuniverse #hackathon @ American Museum of Natural\u2026 http://t.co/INPaK9BdtK\n",
        "1\n",
        "0\n",
        "1431\n",
        "breakfast & hacking with team cosmos #cosmosis #hacktheuniverse @amnh @ Hayden Planetarium @ The\u2026 http://t.co/zzRoAmyoal\n",
        "1\n",
        "0\n",
        "241\n"
       ]
      }
     ],
     "prompt_number": 5
    },
    {
     "cell_type": "code",
     "collapsed": false,
     "input": [
      "all_tweets"
     ],
     "language": "python",
     "metadata": {},
     "outputs": [
      {
       "metadata": {},
       "output_type": "pyout",
       "prompt_number": 6,
       "text": [
        "u\"RT @nicholalexander: amazing watching the apps roll into the repo -https://t.co/oea693GBqN - amazing talent here. #hacktheuniverse On my way back to #hacktheuniverse at @AMNH! Excited to see what's been going on Great to see all the #hacktheuniverse @AMNH guys bright and early this morning. So much fun and the music was great http://t.co/HclPp4L1zU RT @kosamari: You wake up to this view :) Inside of the American Museum of Natural History #hacktheuniverse http://t.co/TCSiytvg5m @shubhabala are you at #hacktheuniverse today? We're trying to come by later! @MacDiva So sad to miss this weekend, please share the results! Would love it if anyone wanted to come present on #HackTheUniverse @ITP_NYU LOOK I MADE A PLAYLIST PLEASE USE THIS http://t.co/KueNrl81Vd #hacktheuniverse #nomorearenarockplz It's @Nrefzen!! \\u201cAMNH #HacktheUniverse participants working through the night to build apps using Digital Universe http://t.co/Vhlsb39gOP\\u201d RT @kosamari: You wake up to this view :) Inside of the American Museum of Natural History #hacktheuniverse http://t.co/TCSiytvg5m 22 projects created in 24 hours at #HackTheUniverse! INTERGALACTIC!!! @amnh #hacktheuniverse has become a HELLVERSE w this awful music. Who's down to make an intergalactic alliance for silence?! Good morning, Hayden Planetarium \\U0001f31e\\U0001f31e #hacktheuniverse #amnh @ Hayden Planetarium @ The American\\u2026 http://t.co/JpgRsSaF6R #hacktheuniverse any front end / design folks want to help translate some wireframes into a prettier / interactive UI for Partiview? Breakfast while we hack away in the #amnh #hacktheuniverse #hackathon @ American Museum of Natural\\u2026 http://t.co/INPaK9BdtK breakfast & hacking with team cosmos #cosmosis #hacktheuniverse @amnh @ Hayden Planetarium @ The\\u2026 http://t.co/zzRoAmyoal \""
       ]
      }
     ],
     "prompt_number": 6
    },
    {
     "cell_type": "code",
     "collapsed": false,
     "input": [
      "from sklearn.feature_extraction.text import CountVectorizer"
     ],
     "language": "python",
     "metadata": {},
     "outputs": [],
     "prompt_number": 7
    },
    {
     "cell_type": "code",
     "collapsed": false,
     "input": [
      "import numpy as np"
     ],
     "language": "python",
     "metadata": {},
     "outputs": [],
     "prompt_number": 12
    },
    {
     "cell_type": "code",
     "collapsed": false,
     "input": [
      "cv = CountVectorizer(min_df = 0, decode_error=\"ignore\", stop_words=None)\n",
      "counts = cv.fit_transform([all_tweets])\n",
      "words  = np.array(cv.get_feature_names())\n",
      "counts = counts / float(counts.maxprint)"
     ],
     "language": "python",
     "metadata": {},
     "outputs": [],
     "prompt_number": 31
    },
    {
     "cell_type": "code",
     "collapsed": false,
     "input": [
      "words"
     ],
     "language": "python",
     "metadata": {},
     "outputs": [
      {
       "metadata": {},
       "output_type": "pyout",
       "prompt_number": 32,
       "text": [
        "array([u'22', u'24', u'all', u'alliance', u'amazing', u'american', u'amnh',\n",
        "       u'an', u'and', u'any', u'anyone', u'apps', u'are', u'at', u'away',\n",
        "       u'awful', u'back', u'become', u'been', u'breakfast', u'bright',\n",
        "       u'build', u'by', u'co', u'come', u'cosmos', u'cosmosis', u'created',\n",
        "       u'design', u'digital', u'down', u'early', u'end', u'excited',\n",
        "       u'folks', u'for', u'front', u'fun', u'going', u'good', u'great',\n",
        "       u'guys', u'hack', u'hackathon', u'hacking', u'hacktheuniverse',\n",
        "       u'has', u'hayden', u'hclpp4l1zu', u'hellverse', u'help', u'here',\n",
        "       u'history', u'hours', u'http', u'https', u'if', u'in',\n",
        "       u'inpak9bdtk', u'inside', u'interactive', u'intergalactic', u'into',\n",
        "       u'it', u'itp_nyu', u'jpgrssaf6r', u'kosamari', u'kuenrl81vd',\n",
        "       u'later', u'look', u'love', u'macdiva', u'made', u'make', u'miss',\n",
        "       u'morning', u'much', u'museum', u'music', u'my', u'natural',\n",
        "       u'nicholalexander', u'night', u'nomorearenarockplz', u'nrefzen',\n",
        "       u'oea693gbqn', u'of', u'on', u'participants', u'partiview',\n",
        "       u'planetarium', u'playlist', u'please', u'present', u'prettier',\n",
        "       u'projects', u're', u'repo', u'results', u'roll', u'rt', u'sad',\n",
        "       u'see', u'share', u'shubhabala', u'silence', u'so', u'some',\n",
        "       u'talent', u'tcsiytvg5m', u'team', u'the', u'this', u'through',\n",
        "       u'to', u'today', u'translate', u'trying', u'ui', u'universe', u'up',\n",
        "       u'use', u'using', u'vhlsb39gop', u'view', u'wake', u'want',\n",
        "       u'wanted', u'was', u'watching', u'way', u'we', u'weekend', u'what',\n",
        "       u'while', u'who', u'wireframes', u'with', u'working', u'would',\n",
        "       u'you', u'zzroamyoal'], \n",
        "      dtype='<U18')"
       ]
      }
     ],
     "prompt_number": 32
    },
    {
     "cell_type": "code",
     "collapsed": false,
     "input": [
      "counts.data"
     ],
     "language": "python",
     "metadata": {},
     "outputs": [
      {
       "metadata": {},
       "output_type": "pyout",
       "prompt_number": 33,
       "text": [
        "array([ 0.06,  0.02,  0.04,  0.02,  0.22,  0.04,  0.02,  0.04,  0.02,\n",
        "        0.02,  0.18,  0.02,  0.02,  0.02,  0.3 ,  0.06,  0.02,  0.02,\n",
        "        0.02,  0.22,  0.06,  0.14,  0.02,  0.04,  0.02,  0.02,  0.02,\n",
        "        0.04,  0.02,  0.02,  0.02,  0.04,  0.02,  0.12,  0.04,  0.04,\n",
        "        0.02,  0.02,  0.04,  0.02,  0.16,  0.02,  0.04,  0.06,  0.04,\n",
        "        0.04,  0.04,  0.04,  0.1 ,  0.08,  0.06,  0.06,  0.04,  0.04,\n",
        "        0.02,  0.02,  0.02,  0.04,  0.02,  0.02,  0.04,  0.02,  0.02,\n",
        "        0.02,  0.02,  0.02,  0.02,  0.04,  0.02,  0.02,  0.02,  0.02,\n",
        "        0.04,  0.02,  0.02,  0.02,  0.02,  0.02,  0.02,  0.02,  0.02,\n",
        "        0.02,  0.02,  0.02,  0.02,  0.02,  0.02,  0.02,  0.02,  0.02,\n",
        "        0.02,  0.02,  0.02,  0.02,  0.02,  0.02,  0.02,  0.04,  0.02,\n",
        "        0.02,  0.04,  0.02,  0.02,  0.02,  0.02,  0.02,  0.02,  0.02,\n",
        "        0.02,  0.02,  0.04,  0.02,  0.02,  0.06,  0.06,  0.02,  0.02,\n",
        "        0.02,  0.02,  0.02,  0.02,  0.02,  0.02,  0.02,  0.02,  0.02,\n",
        "        0.02,  0.02,  0.02,  0.02,  0.04,  0.02,  0.02,  0.02,  0.02,\n",
        "        0.02,  0.02,  0.02,  0.02,  0.02,  0.02,  0.02])"
       ]
      }
     ],
     "prompt_number": 33
    },
    {
     "cell_type": "code",
     "collapsed": false,
     "input": [],
     "language": "python",
     "metadata": {},
     "outputs": []
    }
   ],
   "metadata": {}
  }
 ]
}